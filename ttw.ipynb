{
 "cells": [
  {
   "cell_type": "code",
   "execution_count": null,
   "id": "1a572d13-5d80-456d-807e-b1fe72981567",
   "metadata": {},
   "outputs": [],
   "source": [
    "import folium\n",
    "import pandas as pd\n",
    "import json\n",
    "import matplotlib as plt\n",
    "import matplotlib"
   ]
  },
  {
   "cell_type": "code",
   "execution_count": null,
   "id": "c6469d9c-f362-4054-8598-fa5dc64f31a7",
   "metadata": {},
   "outputs": [],
   "source": [
    "vmin = 0\n",
    "vmax = 9\n",
    "\n",
    "normalizer = plt.colors.Normalize(vmin = vmin, vmax = vmax)\n",
    "cmap = plt.cm.get_cmap('YlGn', 5)    # PiYG\n",
    "color_map = plt.cm.ScalarMappable(norm=normalizer, cmap=cmap)"
   ]
  },
  {
   "cell_type": "code",
   "execution_count": null,
   "id": "8e8a2c3d-5935-4343-8166-f4815ee0a98f",
   "metadata": {},
   "outputs": [],
   "source": [
    "cmap = plt.cm.get_cmap('YlGn', 10)    # PiYG\n",
    "cmap"
   ]
  },
  {
   "cell_type": "code",
   "execution_count": null,
   "id": "e6df9e19-a6b8-4f63-abce-e120f76eedd3",
   "metadata": {},
   "outputs": [],
   "source": [
    "x = 7.9\n",
    "c = color_map.to_rgba(x)\n",
    "c = plt.colors.to_hex(c)\n",
    "c"
   ]
  },
  {
   "cell_type": "code",
   "execution_count": null,
   "id": "9207e8d3-33dd-4825-a1f9-2ffcfb71b311",
   "metadata": {},
   "outputs": [],
   "source": [
    "def get_color_mapper(vmin, vmax, cmap=\"seismic\", ncolors=10):\n",
    "    normalizer = plt.colors.Normalize(vmin = vmin, vmax = vmax)\n",
    "    cmap = plt.cm.get_cmap(cmap, ncolors)    # PiYG\n",
    "    color_map = plt.cm.ScalarMappable(norm=normalizer, cmap=cmap)\n",
    "    \n",
    "    def color_mapper(x):\n",
    "        c = color_map.to_rgba(x)\n",
    "        c = plt.colors.to_hex(c)\n",
    "        return c\n",
    "    return color_mapper"
   ]
  },
  {
   "cell_type": "markdown",
   "id": "5a4b74a3-2461-4dba-ac22-9287d5a638c5",
   "metadata": {},
   "source": [
    "## Markers"
   ]
  },
  {
   "cell_type": "code",
   "execution_count": null,
   "id": "9b99e37f-92b3-4459-b142-eee662ee2f29",
   "metadata": {},
   "outputs": [],
   "source": [
    "my_map = folium.Map(\n",
    "    location=(13.0, 16.0),\n",
    "    max_bounds=True,\n",
    "    zoom_start=2,\n",
    ")"
   ]
  },
  {
   "cell_type": "code",
   "execution_count": null,
   "id": "e628b071-ab7b-411c-9a7d-82610c666193",
   "metadata": {},
   "outputs": [],
   "source": [
    "cities = pd.read_csv(\"cities.txt\")\n",
    "cities.head(3)"
   ]
  },
  {
   "cell_type": "code",
   "execution_count": null,
   "id": "bac37b71-5618-4823-8a2b-bdb6ceb90928",
   "metadata": {},
   "outputs": [],
   "source": [
    "city = cities.loc[0]"
   ]
  },
  {
   "cell_type": "code",
   "execution_count": null,
   "id": "da054b41-321d-4ee1-9764-dacea76c84d5",
   "metadata": {},
   "outputs": [],
   "source": [
    "for _, city in cities.iterrows():\n",
    "    folium.Marker(\n",
    "        location=[city[\"latitude\"], city[\"longitude\"]],\n",
    "        popup=city[\"name\"],\n",
    "        tooltip=city[\"name\"]\n",
    "    ).add_to(my_map)"
   ]
  },
  {
   "cell_type": "code",
   "execution_count": null,
   "id": "790ffabb-5f24-4f6e-acfc-b149a915721f",
   "metadata": {},
   "outputs": [],
   "source": [
    "p_world_countries = f'world-countries.json'\n",
    "\n",
    "with open(p_world_countries, 'r') as f:\n",
    "        world_countries = json.load(f)\n",
    "country_names = [country[\"properties\"][\"name\"] for country in world_countries[\"features\"]]\n",
    "len(country_names), len(world_countries[\"features\"])"
   ]
  },
  {
   "cell_type": "markdown",
   "id": "6986ad81-6d1c-45d2-807f-d5e4619a055d",
   "metadata": {},
   "source": [
    "### World"
   ]
  },
  {
   "cell_type": "code",
   "execution_count": null,
   "id": "37b80c21-9105-44aa-a0c6-cb56164ee341",
   "metadata": {},
   "outputs": [],
   "source": [
    "p_world_countries = f'countries_high_res.json'\n",
    "\n",
    "with open(p_world_countries, 'rb') as f:\n",
    "        world_countries = json.load(f)\n",
    "\n",
    "country_names = [country[\"properties\"][\"name\"] for country in world_countries[\"features\"]]\n",
    "        \n",
    "len(world_countries[\"features\"])"
   ]
  },
  {
   "cell_type": "code",
   "execution_count": null,
   "id": "a1dee8c4-643c-4377-85e4-5048aaf3f1d3",
   "metadata": {},
   "outputs": [],
   "source": [
    "country_names = sorted(country_names)\n",
    "country_data = list(zip(country_names, range(len(country_names))))\n",
    "country_data = pd.DataFrame(country_data, columns=[\"name\", \"value\"])\n",
    "country_data = country_data[:50]"
   ]
  },
  {
   "cell_type": "code",
   "execution_count": null,
   "id": "fc6d5e0e-bc93-4224-9ce2-e5d7f1e893d5",
   "metadata": {},
   "outputs": [],
   "source": [
    "country_costs = []\n",
    "country_security = []\n",
    "country_climbing = []\n",
    "country_interest = []"
   ]
  },
  {
   "cell_type": "code",
   "execution_count": null,
   "id": "bc9f3606-c6d0-4ef0-9a00-1088261a8953",
   "metadata": {},
   "outputs": [],
   "source": [
    "prices = pd.read_csv(\"prices.csv\").sort_values(by=\"country\")\n",
    "prices = prices.groupby('country', as_index=False)['price'].mean().sort_values(by=\"country\")\n",
    "prices = prices.reset_index(drop=True)\n",
    "country_prices = dict(zip(prices.country, prices.price))"
   ]
  },
  {
   "cell_type": "code",
   "execution_count": null,
   "id": "0b81da00-9613-4461-8e3a-d25853aa73e2",
   "metadata": {},
   "outputs": [],
   "source": [
    "for f in world_countries[\"features\"]:\n",
    "    name = f[\"properties\"][\"name\"]\n",
    "    if name in country_prices:\n",
    "        p = country_prices[name]\n",
    "        f[\"properties\"][\"price\"] = float(str(\"{:.1f}\".format(p)))\n",
    "    else:\n",
    "        f[\"properties\"][\"price\"] = None\n",
    "    "
   ]
  },
  {
   "cell_type": "code",
   "execution_count": null,
   "id": "ededf832-14a8-4272-9e14-4bc8cb5dd813",
   "metadata": {},
   "outputs": [],
   "source": [
    "cmap_name = 'YlGn'\n",
    "ncolors = 10\n",
    "cmap = plt.cm.get_cmap(cmap_name, ncolors)    # PiYG\n",
    "\n",
    "color_mapper = get_color_mapper(vmin=prices[\"price\"].min(), vmax=prices[\"price\"].max(), cmap=cmap_name, ncolors=ncolors)\n",
    "cmap"
   ]
  },
  {
   "cell_type": "code",
   "execution_count": null,
   "id": "50f3a1c7-068a-491e-8b3e-ee3f029c815f",
   "metadata": {
    "tags": []
   },
   "outputs": [],
   "source": [
    "def price_function(x):\n",
    "    \"\"\"\n",
    "        fillcolor: color if area\n",
    "        color: color of border liens\n",
    "        weight: size of border lines\n",
    "    \"\"\"\n",
    "    country_name = x[\"properties\"][\"name\"]\n",
    "    style_dict = {'fillColor': \"gray\", 'color': 'gray', \"opacity\": 0, \"weight\": 0, 'fillOpacity': 1.0}\n",
    "    if country_name in country_prices:\n",
    "        c = country_prices[country_name]\n",
    "        c = color_mapper(c)\n",
    "        style_dict = {'fillColor': c, 'weight':1.0, \"color\": c, \"opacity\": 1.0, \"fillOpacity\": 0.7}\n",
    "    return style_dict"
   ]
  },
  {
   "cell_type": "code",
   "execution_count": null,
   "id": "222c41e4-c652-49ba-a781-10c7ae5fb8ef",
   "metadata": {
    "tags": []
   },
   "outputs": [],
   "source": [
    "from branca.element import Figure\n",
    "fig=Figure(width=1000,height=600)\n",
    "m = folium.Map(zoom_start=2)\n",
    "fig.add_child(m)\n",
    "folium.TileLayer('Stamen Terrain').add_to(m)\n",
    "folium.TileLayer('Stamen Toner').add_to(m)\n",
    "folium.TileLayer('Stamen Water Color').add_to(m)\n",
    "folium.TileLayer('cartodbpositron').add_to(m)\n",
    "folium.TileLayer('cartodbdark_matter').add_to(m)\n",
    "\n",
    "folium.GeoJson(world_countries,\n",
    "               name = 'prices',\n",
    "               style_function = price_function,\n",
    "               \n",
    "               tooltip = folium.GeoJsonTooltip(fields=('name', 'price'), aliases=('name', 'price'), labels=True),\n",
    "               zoom_on_click=True,\n",
    "               show = True).add_to(m)\n",
    "folium.LayerControl().add_to(m)\n",
    "m"
   ]
  },
  {
   "cell_type": "code",
   "execution_count": null,
   "id": "17756ffb-afaa-46f0-a688-a23fedcee65c",
   "metadata": {},
   "outputs": [],
   "source": [
    "from branca.element import Figure\n",
    "fig=Figure(width=1000,height=600)\n",
    "m = folium.Map(zoom_start=2)\n",
    "fig.add_child(m)\n",
    "folium.TileLayer('Stamen Terrain').add_to(m)\n",
    "folium.TileLayer('Stamen Toner').add_to(m)\n",
    "folium.TileLayer('Stamen Water Color').add_to(m)\n",
    "folium.TileLayer('cartodbpositron').add_to(m)\n",
    "folium.TileLayer('cartodbdark_matter').add_to(m)\n",
    "\n",
    "folium.Choropleth(\n",
    "    geo_data=world_countries,\n",
    "    name=\"prices\",\n",
    "    data=prices,\n",
    "    columns=[\"country\", \"price\"],\n",
    "    key_on=\"feature.properties.name\",\n",
    "    fill_color=\"YlGn\",\n",
    "    fill_opacity=1.0,\n",
    "    line_opacity=0.2,\n",
    "    legend_name=\"Prices\",\n",
    ").add_to(m)\n",
    "\n",
    "folium.LayerControl().add_to(m)\n",
    "m"
   ]
  },
  {
   "cell_type": "code",
   "execution_count": null,
   "id": "6fa87ae6-9eeb-4013-a5ce-0c0b502e385b",
   "metadata": {},
   "outputs": [],
   "source": []
  }
 ],
 "metadata": {
  "kernelspec": {
   "display_name": "Python 3 (ipykernel)",
   "language": "python",
   "name": "python3"
  },
  "language_info": {
   "codemirror_mode": {
    "name": "ipython",
    "version": 3
   },
   "file_extension": ".py",
   "mimetype": "text/x-python",
   "name": "python",
   "nbconvert_exporter": "python",
   "pygments_lexer": "ipython3",
   "version": "3.9.15"
  }
 },
 "nbformat": 4,
 "nbformat_minor": 5
}
