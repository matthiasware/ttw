{
 "cells": [
  {
   "cell_type": "code",
   "execution_count": null,
   "id": "1a572d13-5d80-456d-807e-b1fe72981567",
   "metadata": {},
   "outputs": [],
   "source": [
    "import folium\n",
    "import pandas as pd\n",
    "import json\n",
    "import matplotlib as plt\n",
    "import matplotlib\n",
    "from branca.element import Figure"
   ]
  },
  {
   "cell_type": "markdown",
   "id": "af00c601",
   "metadata": {},
   "source": [
    "# Countries GeoInformation"
   ]
  },
  {
   "cell_type": "code",
   "execution_count": null,
   "id": "37b80c21-9105-44aa-a0c6-cb56164ee341",
   "metadata": {},
   "outputs": [],
   "source": [
    "p_world_countries = f'countries_med_res.json'\n",
    "\n",
    "with open(p_world_countries, 'rb') as f:\n",
    "        world_countries = json.load(f)\n",
    "\n",
    "country_names = [country[\"properties\"][\"name\"] for country in world_countries[\"features\"]]\n",
    "        \n",
    "len(world_countries[\"features\"])"
   ]
  },
  {
   "cell_type": "code",
   "execution_count": null,
   "id": "a1dee8c4-643c-4377-85e4-5048aaf3f1d3",
   "metadata": {},
   "outputs": [],
   "source": [
    "country_names = sorted(country_names)\n",
    "country_data = list(zip(country_names, range(len(country_names))))\n",
    "country_data = pd.DataFrame(country_data, columns=[\"name\", \"value\"])\n",
    "#country_data = country_data[:50]"
   ]
  },
  {
   "cell_type": "code",
   "execution_count": null,
   "id": "4e95cc90",
   "metadata": {},
   "outputs": [],
   "source": [
    "country_data"
   ]
  },
  {
   "cell_type": "markdown",
   "id": "2f37bd0f",
   "metadata": {},
   "source": [
    "# Load Map Data from Indices"
   ]
  },
  {
   "cell_type": "code",
   "execution_count": null,
   "id": "c50093dd",
   "metadata": {},
   "outputs": [],
   "source": [
    "INDICES = {}"
   ]
  },
  {
   "cell_type": "markdown",
   "id": "7be4a7a4",
   "metadata": {},
   "source": [
    "## Safety Indices"
   ]
  },
  {
   "cell_type": "code",
   "execution_count": null,
   "id": "047ee9e6",
   "metadata": {},
   "outputs": [],
   "source": [
    "p_saf = \"safety_index.csv\"\n",
    "DF = pd.read_csv(p_saf)\n",
    "DF = DF.drop(\"Rank\", axis=1)\n",
    "DF\n"
   ]
  },
  {
   "cell_type": "code",
   "execution_count": null,
   "id": "7f877fa1",
   "metadata": {},
   "outputs": [],
   "source": [
    "indices = [\"Crime\", \"Safety\"]"
   ]
  },
  {
   "cell_type": "code",
   "execution_count": null,
   "id": "bc511421",
   "metadata": {},
   "outputs": [],
   "source": [
    "# normalize: Germany == 100\n",
    "for index in indices:\n",
    "    Z = DF[DF.Country == \"Germany\"][index].values\n",
    "    DF[index] = DF[index] / Z * 100"
   ]
  },
  {
   "cell_type": "code",
   "execution_count": null,
   "id": "9dc86502",
   "metadata": {},
   "outputs": [],
   "source": [
    "# add index information to country data\n",
    "for country_feature in world_countries[\"features\"]:\n",
    "    country_name = country_feature[\"properties\"][\"name\"]\n",
    "    data = DF[DF[\"Country\"] == country_name]\n",
    "    if len(data) == 0:\n",
    "        for index in indices:\n",
    "            country_feature[\"properties\"][index] = None\n",
    "    else:\n",
    "        for index in indices:\n",
    "            country_feature[\"properties\"][index] = float(data[index].values)"
   ]
  },
  {
   "cell_type": "code",
   "execution_count": null,
   "id": "ce94b0fd",
   "metadata": {},
   "outputs": [],
   "source": [
    "for index in indices:\n",
    "    INDICES[index] = {\"min\": DF[index].min(), \"max\": DF[index].max()}"
   ]
  },
  {
   "cell_type": "markdown",
   "id": "2fbdac3f",
   "metadata": {},
   "source": [
    "# Cost Of Living Indices"
   ]
  },
  {
   "cell_type": "code",
   "execution_count": null,
   "id": "099251ee",
   "metadata": {},
   "outputs": [],
   "source": [
    "indices = [\"Cost of Living\", \"Rent\", \"Cost of Living Plus Rent\",\n",
    "           \"Groceries\", \"Restaurant Price\", \"Local Purchasing Power\"]\n",
    "\n",
    "#throw_out_expensive = [\"Bermuda\", \"Switzerland\", \"Bahamas\", \"Barbados\", \"Iceland\", \"Norway\", \"Jersey\"]"
   ]
  },
  {
   "cell_type": "code",
   "execution_count": null,
   "id": "0bd2385e",
   "metadata": {},
   "outputs": [],
   "source": [
    "p_col = \"cost_of_living.csv\"\n",
    "DF = pd.read_csv(p_col)\n",
    "DF = DF.drop(\"Rank\", axis=1)\n",
    "#\n",
    "#for country in throw_out_expensive:\n",
    "#    COL = COL[COL.Country != country]\n",
    "#COL"
   ]
  },
  {
   "cell_type": "code",
   "execution_count": null,
   "id": "46adeefc",
   "metadata": {},
   "outputs": [],
   "source": [
    "# normalize: Germany is 100, everywhere\n",
    "for index in indices:\n",
    "    Z = DF[DF.Country == \"Germany\"][index].values\n",
    "    DF[index] = DF[index] / Z * 100"
   ]
  },
  {
   "cell_type": "code",
   "execution_count": null,
   "id": "b2c48c7b",
   "metadata": {},
   "outputs": [],
   "source": [
    "for country_feature in world_countries[\"features\"]:\n",
    "    country_name = country_feature[\"properties\"][\"name\"]\n",
    "    data = DF[DF[\"Country\"] == country_name]\n",
    "    if len(data) == 0:\n",
    "        for index in indices:\n",
    "            country_feature[\"properties\"][index] = None\n",
    "    else:\n",
    "        for index in indices:\n",
    "            country_feature[\"properties\"][index] = float(data[index].values)"
   ]
  },
  {
   "cell_type": "code",
   "execution_count": null,
   "id": "b348435b",
   "metadata": {},
   "outputs": [],
   "source": [
    "for index in indices:\n",
    "    INDICES[index] = {\"min\": DF[index].min(), \"max\": DF[index].max()}"
   ]
  },
  {
   "cell_type": "code",
   "execution_count": null,
   "id": "dfb1a400",
   "metadata": {
    "scrolled": true
   },
   "outputs": [],
   "source": [
    "INDICES"
   ]
  },
  {
   "cell_type": "markdown",
   "id": "c601bc06",
   "metadata": {},
   "source": [
    "# Draw Map"
   ]
  },
  {
   "cell_type": "code",
   "execution_count": null,
   "id": "ead14501",
   "metadata": {},
   "outputs": [],
   "source": [
    "def get_color_mapper(vmin, vmax, cmap=\"seismic\", ncolors=10):\n",
    "    normalizer = plt.colors.Normalize(vmin = vmin, vmax = vmax)\n",
    "    cmap = plt.cm.get_cmap(cmap, ncolors)    # PiYG\n",
    "    color_map = plt.cm.ScalarMappable(norm=normalizer, cmap=cmap)\n",
    "    \n",
    "    def color_mapper(x):\n",
    "        c = color_map.to_rgba(x)\n",
    "        c = plt.colors.to_hex(c)\n",
    "        return c\n",
    "    return color_mapper"
   ]
  },
  {
   "cell_type": "code",
   "execution_count": null,
   "id": "50f3a1c7-068a-491e-8b3e-ee3f029c815f",
   "metadata": {
    "tags": []
   },
   "outputs": [],
   "source": [
    "def get_layer_function(index, color_mapper):\n",
    "    def layer_function(x):\n",
    "        \"\"\"\n",
    "            fillcolor: color if area\n",
    "            color: color of border liens\n",
    "            weight: size of border lines\n",
    "        \"\"\"\n",
    "        country_name = x[\"properties\"][\"name\"]\n",
    "        style_dict = {'fillColor': \"gray\", 'color': 'gray', \"opacity\": 0, \"weight\": 0, 'fillOpacity': 1.0}\n",
    "        if x[\"properties\"][index] is not None:\n",
    "            c = x[\"properties\"][index]\n",
    "            c = color_mapper(c)\n",
    "            style_dict = {'fillColor': c, 'weight':1.0, \"color\": c, \"opacity\": 1.0, \"fillOpacity\": 0.8}\n",
    "        return style_dict\n",
    "    return layer_function"
   ]
  },
  {
   "cell_type": "code",
   "execution_count": null,
   "id": "222c41e4-c652-49ba-a781-10c7ae5fb8ef",
   "metadata": {
    "tags": []
   },
   "outputs": [],
   "source": [
    "fig=Figure(width=1000,height=600)\n",
    "m = folium.Map(zoom_start=2)\n",
    "fig.add_child(m)\n",
    "folium.TileLayer('Stamen Terrain').add_to(m)\n",
    "folium.TileLayer('Stamen Toner').add_to(m)\n",
    "folium.TileLayer('Stamen Water Color').add_to(m)\n",
    "folium.TileLayer('cartodbpositron').add_to(m)\n",
    "folium.TileLayer('cartodbdark_matter').add_to(m)\n",
    "\n",
    "\n",
    "for idx, index in enumerate(INDICES.keys()):\n",
    "    print(index)\n",
    "    cmap_name = 'YlGn' # 'YlGnBu'\n",
    "    ncolors = 10\n",
    "    vmin = INDICES[index][\"min\"]\n",
    "    vmax = INDICES[index][\"max\"]\n",
    "    color_mapper = get_color_mapper(vmin=vmin, vmax=vmax, cmap=cmap_name, ncolors=ncolors)\n",
    "\n",
    "    folium.GeoJson(world_countries,\n",
    "                   name = index,\n",
    "                   style_function = get_layer_function(index, color_mapper),\n",
    "                   tooltip = folium.GeoJsonTooltip(fields=('name', index), aliases=('name', index), labels=True),\n",
    "                   zoom_on_click=True,\n",
    "                   show = idx == 0).add_to(m)\n",
    "folium.LayerControl().add_to(m)\n",
    "m"
   ]
  },
  {
   "cell_type": "markdown",
   "id": "423e53c9",
   "metadata": {},
   "source": [
    "# Add Markers"
   ]
  },
  {
   "cell_type": "code",
   "execution_count": null,
   "id": "cb9b601c",
   "metadata": {},
   "outputs": [],
   "source": [
    "data = pd.DataFrame({\n",
    "   'lon':[-58, 2, 145, 30.32, -4.03, -73.57, 36.82, -38.5],\n",
    "   'lat':[-34, 49, -38, 59.93, 5.33, 45.52, -1.29, -12.97],\n",
    "   'name':['Buenos Aires', 'Paris', 'melbourne', 'St Petersbourg', 'Abidjan', 'Montreal', 'Nairobi', 'Salvador'],\n",
    "   'value':[10, 12, 40, 70, 23, 43, 100, 43]\n",
    "}, dtype=str)\n",
    "\n",
    "data\n"
   ]
  },
  {
   "cell_type": "code",
   "execution_count": null,
   "id": "a91e7658",
   "metadata": {},
   "outputs": [],
   "source": [
    "for i in range(0,len(data)):\n",
    "    folium.Marker(\n",
    "        location=[data.iloc[i]['lat'], data.iloc[i]['lon']],\n",
    "        popup=data.iloc[i]['name'],\n",
    "    ).add_to(m)\n",
    "\n",
    "# Show the map again\n",
    "m\n"
   ]
  },
  {
   "cell_type": "code",
   "execution_count": null,
   "id": "bc502319",
   "metadata": {},
   "outputs": [],
   "source": []
  }
 ],
 "metadata": {
  "kernelspec": {
   "display_name": "Python 3 (ipykernel)",
   "language": "python",
   "name": "python3"
  },
  "language_info": {
   "codemirror_mode": {
    "name": "ipython",
    "version": 3
   },
   "file_extension": ".py",
   "mimetype": "text/x-python",
   "name": "python",
   "nbconvert_exporter": "python",
   "pygments_lexer": "ipython3",
   "version": "3.10.4"
  }
 },
 "nbformat": 4,
 "nbformat_minor": 5
}
